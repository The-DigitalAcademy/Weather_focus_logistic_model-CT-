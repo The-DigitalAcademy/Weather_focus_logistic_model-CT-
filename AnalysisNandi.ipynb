{
 "cells": [
  {
   "cell_type": "code",
   "execution_count": null,
   "metadata": {},
   "outputs": [],
   "source": [
    "#unique recoderd months\n",
    "M=Weather_focus['Month'].unique()\n",
    "print(\"Unique recorded months \",M)\n",
    "\n",
    "#unique recoderd Days\n",
    "D=Weather_focus['Day'].unique()\n",
    "print(\"Unique recorded days \",D)\n",
    "\n",
    "#find all unique wind speed recorded in 2021\n",
    "d=Weather_focus['Wind Speed_km/h'].unique()\n",
    "print('2012 unique Recorded wind speed:',d)\n",
    "\n",
    "max_wind= Weather_focus['Wind Speed_km/h'].max()\n",
    "print('Max Wind Speed:',max_wind)\n",
    "\n",
    "min_wind= Weather_focus['Wind Speed_km/h'].min()\n",
    "print('Min Wind Speed:',min_wind)\n",
    "\n",
    "avg_wind= Weather_focus['Wind Speed_km/h'].mean()\n",
    "print('Average Wind Speed:',avg_wind)\n",
    "\n",
    "#First 10 weather recorded weather with temperature greater than 10\n",
    "Weather_focus[(Weather_focus['Temp_C'] > 10)].head(10)\n",
    "\n",
    "#winter weather\n",
    "Winter= Weather_focus[(Weather_focus['Month']==6) | (Weather_focus['Month']==7) | (Weather_focus['Month']==8)]\n",
    "Winter\n",
    "\n",
    "\n",
    "mvst = Winter.groupby(\"Month\")[\"Temp_C\"].mean()\n",
    "mvst.plot(kind=\"line\")\n",
    "plt.xlabel(\"Month\")\n",
    "plt.ylabel(\"Temperature (Celsius)\")\n",
    "plt.show()\n",
    "\n",
    "Winter.plot(x=\"Time\", y=\"Temp_C\")\n",
    "plt.show()\n",
    "\n",
    "#checking in which month/s did each unique weather condition  occur.\n",
    "for values in Uni_weather:\n",
    "\n",
    "  Weather_Cond=Weather_focus[(Weather_focus['Weather']  == values)]\n",
    "  Val=Weather_Cond['Month'].unique()\n",
    "  print('Months with ',values,Val)"
   ]
  }
 ],
 "metadata": {
<<<<<<< HEAD
  "kernelspec": {
   "display_name": "Python 3.9.12 ('base')",
   "language": "python",
   "name": "python3"
  },
  "language_info": {
   "name": "python",
   "version": "3.9.12"
  },
  "orig_nbformat": 4,
  "vscode": {
   "interpreter": {
    "hash": "40d3a090f54c6569ab1632332b64b2c03c39dcf918b08424e98f38b5ae0af88f"
   }
  }
=======
  "language_info": {
   "name": "python"
  },
  "orig_nbformat": 4
>>>>>>> origin/AnalysisNandi
 },
 "nbformat": 4,
 "nbformat_minor": 2
}

#find all unique wind speed recorded in 2021
d=Weather_focus['Wind Speed_km/h'].unique()
print('2012 unique Recorded wind speed:',d)

max_wind= Weather_focus['Wind Speed_km/h'].max()
print('Max Wind Speed:',max_wind)

min_wind= Weather_focus['Wind Speed_km/h'].min()
print('Min Wind Speed:',min_wind)

avg_wind= Weather_focus['Wind Speed_km/h'].mean()
print('Average Wind Speed:',avg_wind)

#winter weather
Winter = Weather_focus[(Weather_focus['Month']==6) | (Weather_focus['Month']==7) | (Weather_focus['Month']==8)]
Winter

mvst = Winter.groupby("Month")["Temp_C"].mean()

#The results are similar to 'Month vs Visibility_km' and 'Month vs Press_kPa'
mvst.plot(kind="line")
plt.xlabel("Month")
plt.ylabel("Temperature (Celsius)")
plt.show()

#Summer Weather 
Summer= Weather_focus[(Weather_focus['Month']==12) | (Weather_focus['Month']==1) | (Weather_focus['Month']==2)]
Summer

Sum_Vis = Summer.groupby("Month")["Temp_C"].mean()
Sum_Vis.plot(kind="line")
plt.xlabel("Month")
plt.ylabel("Temperature (Celsius)")
plt.show()

Spring= Weather_focus[(Weather_focus['Month']==9) | (Weather_focus['Month']==10) | (Weather_focus['Month']==11)]
Spring

Spring_Vis = Winter.groupby("Month")["Temp_C"].mean()
Spring_Vis.plot(kind="line")
plt.xlabel("Month")
plt.ylabel("Temperature (Celsius)")
plt.show()

for values in Uni_weather:

  Weather_Cond=Weather_focus[(Weather_focus['Weather']  == values)]
  Val=Weather_Cond['Month'].unique()
  print('Months with ',values,Val)