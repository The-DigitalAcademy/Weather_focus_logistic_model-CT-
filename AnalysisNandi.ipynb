{
 "cells": [
  {
   "cell_type": "code",
   "execution_count": null,
   "metadata": {},
   "outputs": [],
   "source": [
    "#unique recoderd months\n",
    "M=Weather_focus['Month'].unique()\n",
    "print(\"Unique recorded months \",M)\n",
    "\n",
    "#unique recoderd Days\n",
    "D=Weather_focus['Day'].unique()\n",
    "print(\"Unique recorded days \",D)\n",
    "\n",
    "#find all unique wind speed recorded in 2021\n",
    "d=Weather_focus['Wind Speed_km/h'].unique()\n",
    "print('2012 unique Recorded wind speed:',d)\n",
    "\n",
    "max_wind= Weather_focus['Wind Speed_km/h'].max()\n",
    "print('Max Wind Speed:',max_wind)\n",
    "\n",
    "min_wind= Weather_focus['Wind Speed_km/h'].min()\n",
    "print('Min Wind Speed:',min_wind)\n",
    "\n",
    "avg_wind= Weather_focus['Wind Speed_km/h'].mean()\n",
    "print('Average Wind Speed:',avg_wind)\n",
    "\n",
    "#First 10 weather recorded weather with temperature greater than 10\n",
    "Weather_focus[(Weather_focus['Temp_C'] > 10)].head(10)\n",
    "\n",
    "#winter weather\n",
    "Winter= Weather_focus[(Weather_focus['Month']==6) | (Weather_focus['Month']==7) | (Weather_focus['Month']==8)]\n",
    "Winter\n",
    "\n",
    "\n",
    "mvst = Winter.groupby(\"Month\")[\"Temp_C\"].mean()\n",
    "mvst.plot(kind=\"line\")\n",
    "plt.xlabel(\"Month\")\n",
    "plt.ylabel(\"Temperature (Celsius)\")\n",
    "plt.show()\n",
    "\n",
    "Winter.plot(x=\"Time\", y=\"Temp_C\")\n",
    "plt.show()\n",
    "\n",
    "#checking in which month/s did each unique weather condition  occur.\n",
    "for values in Uni_weather:\n",
    "\n",
    "  Weather_Cond=Weather_focus[(Weather_focus['Weather']  == values)]\n",
    "  Val=Weather_Cond['Month'].unique()\n",
    "  print('Months with ',values,Val)"
   ]
  }
 ],
 "metadata": {
  "language_info": {
   "name": "python"
  },
  "orig_nbformat": 4
 },
 "nbformat": 4,
 "nbformat_minor": 2
}
