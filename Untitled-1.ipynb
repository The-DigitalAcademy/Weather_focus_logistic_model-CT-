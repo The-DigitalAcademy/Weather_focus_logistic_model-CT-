{
 "cells": [
  {
   "cell_type": "code",
   "execution_count": null,
   "metadata": {},
   "outputs": [],
   "source": [
    "#find all unique wind speed recorded in 2021\n",
    "d=Weather_focus['Wind Speed_km/h'].unique()\n",
    "print('2012 unique Recorded wind speed:',d)\n",
    "\n",
    "max_wind= Weather_focus['Wind Speed_km/h'].max()\n",
    "print('Max Wind Speed:',max_wind)\n",
    "\n",
    "min_wind= Weather_focus['Wind Speed_km/h'].min()\n",
    "print('Min Wind Speed:',min_wind)\n",
    "\n",
    "avg_wind= Weather_focus['Wind Speed_km/h'].mean()\n",
    "print('Average Wind Speed:',avg_wind)\n",
    "\n",
    "#winter weather\n",
    "Winter = Weather_focus[(Weather_focus['Month']==6) | (Weather_focus['Month']==7) | (Weather_focus['Month']==8)]\n",
    "Winter\n",
    "\n",
    "mvst = Winter.groupby(\"Month\")[\"Temp_C\"].mean()\n",
    "\n",
    "#The results are similar to 'Month vs Visibility_km' and 'Month vs Press_kPa'\n",
    "mvst.plot(kind=\"line\")\n",
    "plt.xlabel(\"Month\")\n",
    "plt.ylabel(\"Temperature (Celsius)\")\n",
    "plt.show()\n",
    "\n",
    "#Summer Weather \n",
    "Summer= Weather_focus[(Weather_focus['Month']==12) | (Weather_focus['Month']==1) | (Weather_focus['Month']==2)]\n",
    "Summer\n",
    "\n",
    "Sum_Vis = Summer.groupby(\"Month\")[\"Temp_C\"].mean()\n",
    "Sum_Vis.plot(kind=\"line\")\n",
    "plt.xlabel(\"Month\")\n",
    "plt.ylabel(\"Temperature (Celsius)\")\n",
    "plt.show()\n",
    "\n",
    "Spring= Weather_focus[(Weather_focus['Month']==9) | (Weather_focus['Month']==10) | (Weather_focus['Month']==11)]\n",
    "Spring\n",
    "\n",
    "Spring_Vis = Winter.groupby(\"Month\")[\"Temp_C\"].mean()\n",
    "Spring_Vis.plot(kind=\"line\")\n",
    "plt.xlabel(\"Month\")\n",
    "plt.ylabel(\"Temperature (Celsius)\")\n",
    "plt.show()\n",
    "\n",
    "for values in Uni_weather:\n",
    "\n",
    "  Weather_Cond=Weather_focus[(Weather_focus['Weather']  == values)]\n",
    "  Val=Weather_Cond['Month'].unique()\n",
    "  print('Months with ',values,Val)"
   ]
  }
 ],
 "metadata": {
  "language_info": {
   "name": "python"
  },
  "orig_nbformat": 4
 },
 "nbformat": 4,
 "nbformat_minor": 2
}
